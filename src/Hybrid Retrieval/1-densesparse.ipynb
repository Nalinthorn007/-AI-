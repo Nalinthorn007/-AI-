{
 "cells": [
  {
   "cell_type": "markdown",
   "id": "3a129598",
   "metadata": {},
   "source": [
    "## Hybrid Retriever- Combining Dense And Sparse Retriever"
   ]
  },
  {
   "cell_type": "code",
   "execution_count": 1,
   "id": "f518da96",
   "metadata": {},
   "outputs": [],
   "source": [
    "from langchain_community.vectorstores import FAISS\n",
    "from langchain_huggingface import HuggingFaceEmbeddings\n",
    "from langchain_community.retrievers import BM25Retriever\n",
    "from langchain.retrievers import EnsembleRetriever\n",
    "from langchain.schema import Document\n",
    "\n"
   ]
  },
  {
   "cell_type": "code",
   "execution_count": 19,
   "id": "5c86da13",
   "metadata": {},
   "outputs": [],
   "source": [
    "# Step 1: Sample documents\n",
    "docs = [\n",
    "    Document(page_content=\"ວິທະຍາສາດຄອມພິວເຕີແມ່ນສາຂາວິຊາທີ່ສຳຄັນໃນຍຸກປັດຈຸບັນ.\"),\n",
    "    Document(page_content=\"ການເຂົ້າໃຈວິທະຍາສາດຄອມພິວເຕີຈະຊ່ວຍໃຫ້ນັກສຶກສາມີທັກສະທີ່ຈຳເປັນ.\"),\n",
    "    Document(page_content=\"ນັກສຶກສາສາມາດຫາວຽກເຮັດງານທຳໄດ້ງ່າຍຂຶ້ນຖ້າມີຄວາມຮູ້ດ້ານນີ້.\"),\n",
    "    Document(page_content=\"ປັນຍາປະດິດ (Artificial Intelligence), ຫຼື AI, ແມ່ນລະບົບຄອມພິວເຕີທີ່ຖືກສ້າງຂຶ້ນເພື່ອຮຽນຮູ້, ຄິດ, ແລະແກ້ໄຂບັນຫາໄດ້ຄືກັບມະນຸດ.\"),\n",
    "    Document(page_content=\"ປັນຍາປະດິດແມ່ນເຕັກໂນໂລຊີທີ່ກຳລັງພັດທະນາຢ່າງໄວວາ.\"),\n",
    "    Document(page_content=\"AI ສາມາດນຳມາໃຊ້ໃນຫຼາຍຂະແໜງການ.\"),\n",
    "    Document(page_content=\"ຫຼາຍບໍລິສັດໃຫຍ່ກຳລັງລົງທຶນໃນການພັດທະນາ AI.\"),\n",
    "    Document(page_content=\"ສປປ ລາວແມ່ນປະເທດທີ່ມີວັດທະນະທຳອັນຍາວນານ.\"),\n",
    "    Document(page_content=\"ປະຊາຊົນລາວມີຄວາມເປັນກັນເອງແລະມີໃຈມັກງາມ.\"),\n",
    "    Document(page_content=\"ຄົນລາວຄົນຈິງໃຈ.\")\n",
    "] \n",
    "\n",
    "# Step 2: Dense Retriever (FAISS + HuggingFace)\n",
    "embedding_model = HuggingFaceEmbeddings(model_name=\"D:\\\\model\\\\BAAI-bge-m3\")\n",
    "dense_vectorstore = FAISS.from_documents(docs, embedding_model)\n",
    "dense_retriever = dense_vectorstore.as_retriever(search_kwargs={\"k\": 3})"
   ]
  },
  {
   "cell_type": "code",
   "execution_count": 20,
   "id": "76569a22",
   "metadata": {},
   "outputs": [],
   "source": [
    "### Sparse Retriever(BM25)\n",
    "sparse_retriever=BM25Retriever.from_documents(docs)\n",
    "sparse_retriever.k=3 ##top- k documents to retriever\n",
    "\n",
    "## step 4 : Combine with Ensemble Retriever\n",
    "hybrid_retriever=EnsembleRetriever(\n",
    "    retrievers=[dense_retriever,sparse_retriever],\n",
    "    weight=[0.7,0.3]\n",
    ")\n"
   ]
  },
  {
   "cell_type": "code",
   "execution_count": 21,
   "id": "57d59933",
   "metadata": {},
   "outputs": [
    {
     "data": {
      "text/plain": [
       "EnsembleRetriever(retrievers=[VectorStoreRetriever(tags=['FAISS', 'HuggingFaceEmbeddings'], vectorstore=<langchain_community.vectorstores.faiss.FAISS object at 0x000001D3536CD590>, search_kwargs={'k': 3}), BM25Retriever(vectorizer=<rank_bm25.BM25Okapi object at 0x000001D356B95220>, k=3)], weights=[0.5, 0.5])"
      ]
     },
     "execution_count": 21,
     "metadata": {},
     "output_type": "execute_result"
    }
   ],
   "source": [
    "hybrid_retriever"
   ]
  },
  {
   "cell_type": "code",
   "execution_count": 22,
   "id": "dec3b869",
   "metadata": {},
   "outputs": [
    {
     "name": "stdout",
     "output_type": "stream",
     "text": [
      "\n",
      "🔹 Document 1:\n",
      "AI ສາມາດນຳມາໃຊ້ໃນຫຼາຍຂະແໜງການ.\n",
      "\n",
      "🔹 Document 2:\n",
      "ປັນຍາປະດິດ (Artificial Intelligence), ຫຼື AI, ແມ່ນລະບົບຄອມພິວເຕີທີ່ຖືກສ້າງຂຶ້ນເພື່ອຮຽນຮູ້, ຄິດ, ແລະແກ້ໄຂບັນຫາໄດ້ຄືກັບມະນຸດ.\n",
      "\n",
      "🔹 Document 3:\n",
      "ຄົນລາວຄົນຈິງໃຈ.\n",
      "\n",
      "🔹 Document 4:\n",
      "ຫຼາຍບໍລິສັດໃຫຍ່ກຳລັງລົງທຶນໃນການພັດທະນາ AI.\n",
      "\n",
      "🔹 Document 5:\n",
      "ປະຊາຊົນລາວມີຄວາມເປັນກັນເອງແລະມີໃຈມັກງາມ.\n"
     ]
    }
   ],
   "source": [
    "# Step 5: Query and get results\n",
    "query = \"AI ຄືຍັງ ແລະ ສຳຄັນແນວໃດ\"\n",
    "results = hybrid_retriever.invoke(query) \n",
    "\n",
    "# Step 6: Print results\n",
    "for i, doc in enumerate(results):\n",
    "    print(f\"\\n🔹 Document {i+1}:\\n{doc.page_content}\")"
   ]
  },
  {
   "cell_type": "markdown",
   "id": "e11c57cb",
   "metadata": {},
   "source": [
    "### RAG Pipeline with hybrid retriever"
   ]
  },
  {
   "cell_type": "code",
   "execution_count": 23,
   "id": "0bf22afb",
   "metadata": {},
   "outputs": [],
   "source": [
    "from langchain.chat_models import init_chat_model\n",
    "from langchain.prompts import PromptTemplate\n",
    "from langchain.chains.combine_documents import create_stuff_documents_chain\n",
    "from langchain.chains.retrieval import create_retrieval_chain"
   ]
  },
  {
   "cell_type": "code",
   "execution_count": 24,
   "id": "99e17a99",
   "metadata": {},
   "outputs": [
    {
     "data": {
      "text/plain": [
       "ChatGroq(client=<groq.resources.chat.completions.Completions object at 0x000001D3536CE5D0>, async_client=<groq.resources.chat.completions.AsyncCompletions object at 0x000001D3536CEFD0>, model_name='meta-llama/llama-4-maverick-17b-128e-instruct', temperature=0.4, model_kwargs={}, groq_api_key=SecretStr('**********'))"
      ]
     },
     "execution_count": 24,
     "metadata": {},
     "output_type": "execute_result"
    }
   ],
   "source": [
    "# Step 5: Prompt Template\n",
    "prompt = PromptTemplate.from_template(\"\"\"\n",
    "Answer the question based on the context below.\n",
    "Important: Response in Lao Language only.\n",
    "Context:\n",
    "{context}\n",
    "\n",
    "Question: {input}\n",
    "\"\"\")\n",
    "\n",
    "## step 6-llm\n",
    "llm=init_chat_model(\"groq:meta-llama/llama-4-maverick-17b-128e-instruct\",temperature=0.4)\n",
    "llm"
   ]
  },
  {
   "cell_type": "code",
   "execution_count": 25,
   "id": "b9eb55e1",
   "metadata": {},
   "outputs": [
    {
     "data": {
      "text/plain": [
       "RunnableBinding(bound=RunnableAssign(mapper={\n",
       "  context: RunnableBinding(bound=RunnableLambda(lambda x: x['input'])\n",
       "           | EnsembleRetriever(retrievers=[VectorStoreRetriever(tags=['FAISS', 'HuggingFaceEmbeddings'], vectorstore=<langchain_community.vectorstores.faiss.FAISS object at 0x000001D3536CD590>, search_kwargs={'k': 3}), BM25Retriever(vectorizer=<rank_bm25.BM25Okapi object at 0x000001D356B95220>, k=3)], weights=[0.5, 0.5]), kwargs={}, config={'run_name': 'retrieve_documents'}, config_factories=[])\n",
       "})\n",
       "| RunnableAssign(mapper={\n",
       "    answer: RunnableBinding(bound=RunnableBinding(bound=RunnableAssign(mapper={\n",
       "              context: RunnableLambda(format_docs)\n",
       "            }), kwargs={}, config={'run_name': 'format_inputs'}, config_factories=[])\n",
       "            | PromptTemplate(input_variables=['context', 'input'], input_types={}, partial_variables={}, template='\\nAnswer the question based on the context below.\\nImportant: Response in Lao Language only.\\nContext:\\n{context}\\n\\nQuestion: {input}\\n')\n",
       "            | ChatGroq(client=<groq.resources.chat.completions.Completions object at 0x000001D3536CE5D0>, async_client=<groq.resources.chat.completions.AsyncCompletions object at 0x000001D3536CEFD0>, model_name='meta-llama/llama-4-maverick-17b-128e-instruct', temperature=0.4, model_kwargs={}, groq_api_key=SecretStr('**********'))\n",
       "            | StrOutputParser(), kwargs={}, config={'run_name': 'stuff_documents_chain'}, config_factories=[])\n",
       "  }), kwargs={}, config={'run_name': 'retrieval_chain'}, config_factories=[])"
      ]
     },
     "execution_count": 25,
     "metadata": {},
     "output_type": "execute_result"
    }
   ],
   "source": [
    "### Create stuff Docuemnt Chain\n",
    "document_chain=create_stuff_documents_chain(llm=llm,prompt=prompt)\n",
    "\n",
    "## create Full rAg chain\n",
    "rag_chain=create_retrieval_chain(retriever=hybrid_retriever,combine_docs_chain=document_chain)\n",
    "rag_chain\n"
   ]
  },
  {
   "cell_type": "code",
   "execution_count": 26,
   "id": "6bb2441c",
   "metadata": {},
   "outputs": [
    {
     "name": "stdout",
     "output_type": "stream",
     "text": [
      "✅ Answer:\n",
      " ທ່ານຄວນຮຽນຮູ້ກ່ຽວກັບປັນຍາປະດິດເພາະມັນແມ່ນເຕັກໂນໂລຊີທີ່ກຳລັງພັດທະນາຢ່າງໄວວາ ແລະ ມັນຈະຊ່ວຍໃຫ້ທ່ານມີທັກສະທີ່ຈຳເປັນໃນການປະກອບອາຊີບໃນອະນາຄົດ. ການເຂົ້າໃຈວິທະຍາສາດຄອມພິວເຕີ ແລະ ປັນຍາປະດິດຈະຊ່ວຍໃຫ້ທ່ານສາມາດແກ້ໄຂບັນຫາ ແລະ ປະກອບສ່ວນໃນການພັດທະນາປະເທດຂອງທ່ານ.\n",
      "\n",
      "📄 Source Documents:\n",
      "\n",
      "Doc 1: ປັນຍາປະດິດແມ່ນເຕັກໂນໂລຊີທີ່ກຳລັງພັດທະນາຢ່າງໄວວາ.\n",
      "\n",
      "Doc 2: ຄົນລາວຄົນຈິງໃຈ.\n",
      "\n",
      "Doc 3: ປັນຍາປະດິດ (Artificial Intelligence), ຫຼື AI, ແມ່ນລະບົບຄອມພິວເຕີທີ່ຖືກສ້າງຂຶ້ນເພື່ອຮຽນຮູ້, ຄິດ, ແລະແກ້ໄຂບັນຫາໄດ້ຄືກັບມະນຸດ.\n",
      "\n",
      "Doc 4: ປະຊາຊົນລາວມີຄວາມເປັນກັນເອງແລະມີໃຈມັກງາມ.\n",
      "\n",
      "Doc 5: ການເຂົ້າໃຈວິທະຍາສາດຄອມພິວເຕີຈະຊ່ວຍໃຫ້ນັກສຶກສາມີທັກສະທີ່ຈຳເປັນ.\n",
      "\n",
      "Doc 6: ສປປ ລາວແມ່ນປະເທດທີ່ມີວັດທະນະທຳອັນຍາວນານ.\n"
     ]
    }
   ],
   "source": [
    "# Step 9: Ask a question\n",
    "query = {\"input\": \"ຂ້ອຍຈຳເປັນຕ້ອງຮຽນ ບັນຍາປະດິດບໍ່\"}\n",
    "response = rag_chain.invoke(query)\n",
    "\n",
    "# Step 10: Output\n",
    "print(\"✅ Answer:\\n\", response[\"answer\"])\n",
    "\n",
    "print(\"\\n📄 Source Documents:\")\n",
    "for i, doc in enumerate(response[\"context\"]):\n",
    "    print(f\"\\nDoc {i+1}: {doc.page_content}\")"
   ]
  }
 ],
 "metadata": {
  "kernelspec": {
   "display_name": ".venv",
   "language": "python",
   "name": "python3"
  },
  "language_info": {
   "codemirror_mode": {
    "name": "ipython",
    "version": 3
   },
   "file_extension": ".py",
   "mimetype": "text/x-python",
   "name": "python",
   "nbconvert_exporter": "python",
   "pygments_lexer": "ipython3",
   "version": "3.13.3"
  }
 },
 "nbformat": 4,
 "nbformat_minor": 5
}
