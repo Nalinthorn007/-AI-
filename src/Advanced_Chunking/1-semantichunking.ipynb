{
 "cells": [
  {
   "cell_type": "code",
   "execution_count": 1,
   "metadata": {},
   "outputs": [],
   "source": [
    "from sentence_transformers import SentenceTransformer\n",
    "from sklearn.metrics.pairwise import cosine_similarity\n",
    "from langchain.schema import Document\n",
    "from langchain.vectorstores import FAISS \n",
    "from langchain.chat_models import init_chat_model\n",
    "from langchain.schema.runnable import RunnableMap\n",
    "from langchain.prompts import PromptTemplate\n",
    "from langchain_core.output_parsers import StrOutputParser\n",
    "import os\n",
    "os.environ[\"GROQ_API_KEY\"]=os.getenv(\"GROQ_API_KEY\")\n"
   ]
  },
  {
   "cell_type": "code",
   "execution_count": 2,
   "metadata": {},
   "outputs": [],
   "source": [
    "### Custom Semantic Chunker With Threshold\n",
    "class ThresholdSematicChunker:\n",
    "    # If model does not exists, you can just add name of model in model_name, it will download automatically\n",
    "    def __init__(self,model_name=\"D:\\\\model\\\\BAAI-bge-m3\",threshold=0.6):\n",
    "        self.model=SentenceTransformer(model_name)\n",
    "        self.threshold=threshold \n",
    "\n",
    "    def split(self, text: str):\n",
    "        sentences = [s.strip() for s in text.split('.') if s.strip()]\n",
    "        embeddings = self.model.encode(sentences)\n",
    "        chunks = []\n",
    "        current_chunk = [sentences[0]]\n",
    "\n",
    "        for i in range(1, len(sentences)):\n",
    "            sim = cosine_similarity([embeddings[i - 1]], [embeddings[i]])[0][0]\n",
    "            if sim >= self.threshold:\n",
    "                current_chunk.append(sentences[i])\n",
    "            else:\n",
    "                chunks.append(\". \".join(current_chunk) + \".\")\n",
    "                current_chunk = [sentences[i]]\n",
    "\n",
    "        chunks.append(\". \".join(current_chunk) + \".\")\n",
    "        return chunks\n",
    "    \n",
    "    def split_documents(self,docs):\n",
    "        result=[]\n",
    "        for doc in docs:\n",
    "            for chunk in self.split(doc.page_content):\n",
    "                result.append(Document(page_content=chunk, metadata=doc.metadata))\n",
    "\n",
    "        return result\n",
    "\n",
    "    "
   ]
  },
  {
   "cell_type": "code",
   "execution_count": 3,
   "metadata": {},
   "outputs": [
    {
     "data": {
      "text/plain": [
       "Document(metadata={}, page_content='\\n    ວິທະຍາສາດຄອມພິວເຕີແມ່ນສາຂາວິຊາທີ່ສຳຄັນໃນຍຸກປັດຈຸບັນ.\\n    ການເຂົ້າໃຈວິທະຍາສາດຄອມພິວເຕີຈະຊ່ວຍໃຫ້ນັກສຶກສາມີທັກສະທີ່ຈຳເປັນ.\\n    ນັກສຶກສາສາມາດຫາວຽກເຮັດງານທຳໄດ້ງ່າຍຂຶ້ນຖ້າມີຄວາມຮູ້ດ້ານນີ້.\\n    ປັນຍາປະດິດແມ່ນເຕັກໂນໂລຊີທີ່ກຳລັງພັດທະນາຢ່າງໄວວາ.\\n    AI ສາມາດນຳມາໃຊ້ໃນຫຼາຍຂະແໜງການ.\\n    ຫຼາຍບໍລິສັດໃຫຍ່ກຳລັງລົງທຶນໃນການພັດທະນາ AI. \\n    ສປປ ລາວແມ່ນປະເທດທີ່ມີວັດທະນະທຳອັນຍາວນານ.\\n    ປະຊາຊົນລາວມີຄວາມເປັນກັນເອງແລະມີໃຈມັກງາມ.\\n    ຄົນລາວຄົນຈິງໃຈ\\n')"
      ]
     },
     "execution_count": 3,
     "metadata": {},
     "output_type": "execute_result"
    }
   ],
   "source": [
    "# Sample text\n",
    "sample_text = \"\"\"\n",
    "    ວິທະຍາສາດຄອມພິວເຕີແມ່ນສາຂາວິຊາທີ່ສຳຄັນໃນຍຸກປັດຈຸບັນ.\n",
    "    ການເຂົ້າໃຈວິທະຍາສາດຄອມພິວເຕີຈະຊ່ວຍໃຫ້ນັກສຶກສາມີທັກສະທີ່ຈຳເປັນ.\n",
    "    ນັກສຶກສາສາມາດຫາວຽກເຮັດງານທຳໄດ້ງ່າຍຂຶ້ນຖ້າມີຄວາມຮູ້ດ້ານນີ້.\n",
    "    ປັນຍາປະດິດແມ່ນເຕັກໂນໂລຊີທີ່ກຳລັງພັດທະນາຢ່າງໄວວາ.\n",
    "    AI ສາມາດນຳມາໃຊ້ໃນຫຼາຍຂະແໜງການ.\n",
    "    ຫຼາຍບໍລິສັດໃຫຍ່ກຳລັງລົງທຶນໃນການພັດທະນາ AI. \n",
    "    ສປປ ລາວແມ່ນປະເທດທີ່ມີວັດທະນະທຳອັນຍາວນານ.\n",
    "    ປະຊາຊົນລາວມີຄວາມເປັນກັນເອງແລະມີໃຈມັກງາມ.\n",
    "    ຄົນລາວຄົນຈິງໃຈ\n",
    "\"\"\"\n",
    "\n",
    "doc = Document(page_content=sample_text)\n",
    "doc"
   ]
  },
  {
   "cell_type": "code",
   "execution_count": 4,
   "metadata": {},
   "outputs": [
    {
     "data": {
      "text/plain": [
       "[Document(metadata={}, page_content='ວິທະຍາສາດຄອມພິວເຕີແມ່ນສາຂາວິຊາທີ່ສຳຄັນໃນຍຸກປັດຈຸບັນ. ການເຂົ້າໃຈວິທະຍາສາດຄອມພິວເຕີຈະຊ່ວຍໃຫ້ນັກສຶກສາມີທັກສະທີ່ຈຳເປັນ. ນັກສຶກສາສາມາດຫາວຽກເຮັດງານທຳໄດ້ງ່າຍຂຶ້ນຖ້າມີຄວາມຮູ້ດ້ານນີ້.'),\n",
       " Document(metadata={}, page_content='ປັນຍາປະດິດແມ່ນເຕັກໂນໂລຊີທີ່ກຳລັງພັດທະນາຢ່າງໄວວາ.'),\n",
       " Document(metadata={}, page_content='AI ສາມາດນຳມາໃຊ້ໃນຫຼາຍຂະແໜງການ. ຫຼາຍບໍລິສັດໃຫຍ່ກຳລັງລົງທຶນໃນການພັດທະນາ AI.'),\n",
       " Document(metadata={}, page_content='ສປປ ລາວແມ່ນປະເທດທີ່ມີວັດທະນະທຳອັນຍາວນານ.'),\n",
       " Document(metadata={}, page_content='ປະຊາຊົນລາວມີຄວາມເປັນກັນເອງແລະມີໃຈມັກງາມ. ຄົນລາວຄົນຈິງໃຈ.')]"
      ]
     },
     "execution_count": 4,
     "metadata": {},
     "output_type": "execute_result"
    }
   ],
   "source": [
    "### Chunking\n",
    "chunker=ThresholdSematicChunker(threshold=0.6)\n",
    "chunks=chunker.split_documents([doc])\n",
    "chunks"
   ]
  },
  {
   "cell_type": "code",
   "execution_count": 5,
   "metadata": {},
   "outputs": [],
   "source": [
    "### VectorStore \n",
    "from langchain_huggingface import HuggingFaceEmbeddings\n",
    "\n",
    "## Initialize a simple Embedding model(no API Key needed!)\n",
    "embeddings=HuggingFaceEmbeddings(\n",
    "    model_name=\"D:\\\\model\\\\BAAI-bge-m3\"\n",
    ") \n",
    "vectorstore=FAISS.from_documents(chunks,embeddings)\n",
    "retriever=vectorstore.as_retriever()\n",
    "\n"
   ]
  },
  {
   "cell_type": "code",
   "execution_count": 6,
   "metadata": {},
   "outputs": [
    {
     "data": {
      "text/plain": [
       "PromptTemplate(input_variables=['context', 'question'], input_types={}, partial_variables={}, template='Answer the question based on the following context:\\nImportant: response in lao language only\\n{context}\\n\\nQuestion: {question}\\n')"
      ]
     },
     "execution_count": 6,
     "metadata": {},
     "output_type": "execute_result"
    }
   ],
   "source": [
    "template = \"\"\"Answer the question based on the following context:\n",
    "Important: response in lao language only\n",
    "{context}\n",
    "\n",
    "Question: {question}\n",
    "\"\"\"\n",
    "\n",
    "prompt = PromptTemplate.from_template(template)\n",
    "prompt"
   ]
  },
  {
   "cell_type": "code",
   "execution_count": 10,
   "metadata": {},
   "outputs": [
    {
     "name": "stdout",
     "output_type": "stream",
     "text": [
      "ຄຳຕອບທີ່ 1 : ປະຊາຊົນລາວມີຄວາມເປັນກັນເອງແລະມີໃຈມັກງາມ, ຄົນລາວຄົນຈິງໃຈ. ດັ່ງນັ້ນ, ປະຊາຊົນລາວເປັນຄົນໃຈດີ.\n",
      "ຄຳຕອບທີ່ 2 : ວິທະຍາສາດຄອມພິວເຕີແມ່ນສາຂາວິຊາທີ່ສຳຄັນໃນຍຸກປັດຈຸບັນ. ການເຂົ້າໃຈວິທະຍາສາດຄອມພິວເຕີຈະຊ່ວຍໃຫ້ນັກສຶກສາມີທັກສະທີ່ຈຳເປັນ ແລະ ສາມາດຫາວຽກເຮັດງານທຳໄດ້ງ່າຍຂຶ້ນ. ດັ່ງນັ້ນ, ວິທະຍາສາດຄອມພິວເຕີຈຶ່ງສຳຄັນ.\n"
     ]
    }
   ],
   "source": [
    "## LLM\n",
    "llm=init_chat_model(model=\"groq:meta-llama/llama-4-maverick-17b-128e-instruct\",temperature=0.4)\n",
    "\n",
    "### LCEL Chain With retrieval\n",
    "\n",
    "rag_chain=(\n",
    "    RunnableMap(\n",
    "        {\n",
    "        \"context\": lambda x: retriever.invoke(x[\"question\"]),\n",
    "        \"question\": lambda x: x[\"question\"],  \n",
    "        }\n",
    "    )\n",
    "    | prompt\n",
    "    | llm\n",
    "    | StrOutputParser()\n",
    ")\n",
    "\n",
    "query = {\"question\": \"ປະຊາຊົນລາວເປັນຄົນໃຈດີບໍ່?\"}\n",
    "result = rag_chain.invoke(query)\n",
    "\n",
    "print(\"ຄຳຕອບທີ່ 1 :\", result)\n",
    "\n",
    "query2 = {\"question\": \"ວິທະຍາສາດຄອມພິວເຕີສຳຄັນບໍ່\"}\n",
    "result2 = rag_chain.invoke(query2)\n",
    "\n",
    "print(\"ຄຳຕອບທີ່ 2 :\",result2)"
   ]
  }
 ],
 "metadata": {
  "kernelspec": {
   "display_name": ".venv",
   "language": "python",
   "name": "python3"
  },
  "language_info": {
   "codemirror_mode": {
    "name": "ipython",
    "version": 3
   },
   "file_extension": ".py",
   "mimetype": "text/x-python",
   "name": "python",
   "nbconvert_exporter": "python",
   "pygments_lexer": "ipython3",
   "version": "3.13.3"
  }
 },
 "nbformat": 4,
 "nbformat_minor": 2
}
