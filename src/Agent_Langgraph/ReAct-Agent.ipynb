{
 "cells": [
  {
   "cell_type": "code",
   "execution_count": 1,
   "metadata": {},
   "outputs": [],
   "source": [
    "import os\n",
    "import json\n",
    "import requests\n",
    "from typing import List, Any\n",
    "from IPython.display import display, Markdown, Image\n",
    "\n",
    "from langchain_core.messages import HumanMessage, ToolMessage\n",
    "from langchain_core.tools import tool\n",
    "from langchain_community.tools.tavily_search import TavilySearchResults\n",
    "from langchain_groq import ChatGroq\n",
    "\n",
    "from langgraph.graph import StateGraph\n",
    "from typing_extensions import TypedDict\n"
   ]
  },
  {
   "cell_type": "code",
   "execution_count": 2,
   "metadata": {},
   "outputs": [],
   "source": [
    "# ===== API Configuration =====\n",
    "# ຕັ້ງຄ່າ API Keys\n",
    "GROQ_API_KEY = os.getenv(\"GROQ_API_KEY\")  # ໃສ່ Groq API key\n",
    "TAVILY_API_KEY = os.getenv(\"TAVILY_API_KEY\")  # ໃສ່ Tavily API key  \n",
    "WEATHER_API_KEY = os.getenv(\"WEATHER_API_KEY\")  # ໃສ່ Weather API key (OpenWeatherMap)\n",
    "\n",
    "# ຕັ້ງຄ່າ environment variables\n",
    "os.environ[\"GROQ_API_KEY\"] = GROQ_API_KEY\n",
    "os.environ[\"TAVILY_API_KEY\"] = TAVILY_API_KEY"
   ]
  },
  {
   "cell_type": "code",
   "execution_count": 3,
   "metadata": {},
   "outputs": [
    {
     "name": "stderr",
     "output_type": "stream",
     "text": [
      "C:\\Users\\Dell\\AppData\\Local\\Temp\\ipykernel_34776\\3673448080.py:33: LangChainDeprecationWarning: The class `TavilySearchResults` was deprecated in LangChain 0.3.25 and will be removed in 1.0. An updated version of the class exists in the :class:`~langchain-tavily package and should be used instead. To use it run `pip install -U :class:`~langchain-tavily` and import as `from :class:`~langchain_tavily import TavilySearch``.\n",
      "  search_tool = TavilySearchResults(max_results=3)\n"
     ]
    }
   ],
   "source": [
    "# ===== Tools Definition =====\n",
    "@tool\n",
    "def get_weather(city: str) -> str:\n",
    "    \"\"\"ເອົາຂໍ້ມູນສະພາບອາກາດຂອງເມືອງທີ່ກຳນົດ\"\"\"\n",
    "    base_url = \"http://api.openweathermap.org/data/2.5/weather\"\n",
    "    params = {\n",
    "        \"q\": city,\n",
    "        \"appid\": WEATHER_API_KEY,\n",
    "        \"units\": \"metric\",\n",
    "        \"lang\": \"en\"\n",
    "    }\n",
    "    \n",
    "    try:\n",
    "        response = requests.get(base_url, params=params)\n",
    "        response.raise_for_status()\n",
    "        data = response.json()\n",
    "        \n",
    "        weather_info = {\n",
    "            \"city\": data[\"name\"],\n",
    "            \"country\": data[\"sys\"][\"country\"],\n",
    "            \"temperature\": data[\"main\"][\"temp\"],\n",
    "            \"feels_like\": data[\"main\"][\"feels_like\"],\n",
    "            \"humidity\": data[\"main\"][\"humidity\"],\n",
    "            \"description\": data[\"weather\"][0][\"description\"],\n",
    "            \"wind_speed\": data[\"wind\"][\"speed\"]\n",
    "        }\n",
    "        \n",
    "        return json.dumps(weather_info, ensure_ascii=False)\n",
    "    except Exception as e:\n",
    "        return f\"ບໍ່ສາມາດເອົາຂໍ້ມູນສະພາບອາກາດໄດ້: {str(e)}\"\n",
    "\n",
    "# ສ້າງ Tavily search tool\n",
    "search_tool = TavilySearchResults(max_results=3)\n",
    "\n",
    "# ລາຍການເຄື່ອງມືທັງໝົດ - ແບບງ່າຍໆ\n",
    "tools = [get_weather, search_tool]"
   ]
  },
  {
   "cell_type": "code",
   "execution_count": 4,
   "metadata": {},
   "outputs": [],
   "source": [
    " # Manual tool execution function\n",
    "def execute_tools(tool_calls, available_tools):\n",
    "    \"\"\"set up tool execution\"\"\"\n",
    "    tools_dict = {tool.name: tool for tool in available_tools}\n",
    "    results = []\n",
    "    \n",
    "    for tool_call in tool_calls:\n",
    "        tool_name = tool_call[\"name\"]\n",
    "        tool_args = tool_call[\"args\"]\n",
    "        tool_id = tool_call[\"id\"]\n",
    "        \n",
    "        if tool_name in tools_dict:\n",
    "            try:\n",
    "                result = tools_dict[tool_name].invoke(tool_args)\n",
    "                results.append(\n",
    "                    ToolMessage(\n",
    "                        content=str(result),\n",
    "                        tool_call_id=tool_id\n",
    "                    )\n",
    "                )\n",
    "            except Exception as e:\n",
    "                results.append(\n",
    "                    ToolMessage(\n",
    "                        content=f\"Error executing {tool_name}: {str(e)}\",\n",
    "                        tool_call_id=tool_id\n",
    "                    )\n",
    "                )\n",
    "        else:\n",
    "            results.append(\n",
    "                ToolMessage(\n",
    "                    content=f\"Tool {tool_name} not found\",\n",
    "                    tool_call_id=tool_id\n",
    "                )\n",
    "            )\n",
    "    \n",
    "    return results"
   ]
  },
  {
   "cell_type": "code",
   "execution_count": 5,
   "metadata": {},
   "outputs": [],
   "source": [
    "# ===== LLM Setup =====\n",
    "llm = ChatGroq(\n",
    "    model=\"meta-llama/llama-4-maverick-17b-128e-instruct\",\n",
    "    temperature=0,\n",
    "    max_tokens=1024\n",
    ")\n",
    "\n",
    "# Assign tools ເຂົ້າກັບ LLM \n",
    "llm_with_tools = llm.bind_tools(tools)"
   ]
  },
  {
   "cell_type": "code",
   "execution_count": 6,
   "metadata": {},
   "outputs": [],
   "source": [
    "# ===== State Definition =====\n",
    "class AgentState(TypedDict):\n",
    "    messages: List[Any]\n",
    "    next_action: str\n",
    "\n",
    "# ===== Agent Functions =====\n",
    "def should_continue(state: AgentState) -> str:\n",
    "    \"\"\"ກຳນົດວ່າຄວນສືບຕໍ່ການທຳງານຫຼືຢຸດ\"\"\"\n",
    "    messages = state[\"messages\"]\n",
    "    last_message = messages[-1]\n",
    "    \n",
    "    # ຖ້າຂໍ້ຄວາມສຸດທ້າຍບໍ່ໄດ້ເອີ້ນໃຊ້ tool ແມ່ນສິ້ນສຸດ\n",
    "    if not hasattr(last_message, 'tool_calls') or not last_message.tool_calls:\n",
    "        return \"end\"\n",
    "    else:\n",
    "        return \"continue\"\n",
    "\n",
    "def call_model(state: AgentState):\n",
    "    \"\"\"ເອີ້ນ LLM ເພື່ອສ້າງຄຳຕອບ\"\"\"\n",
    "    messages = state[\"messages\"]\n",
    "    \n",
    "    # System prompt ສຳລັບ ReAct pattern\n",
    "    system_prompt = \"\"\"ເຈົ້າແມ່ນ AI Assistant ທີ່ສາມາດໃຊ້ເຄື່ອງມືຕ່າງໆໄດ້.\n",
    "\n",
    "ເຈົ້າມີເຄື່ອງມື 2 ຢ່າງ:\n",
    "1. get_weather - ສຳລັບເອົາຂໍ້ມູນສະພາບອາກາດ\n",
    "2. tavily_search_results_json - ສຳລັບຄົ້ນຫາຂໍ້ມູນທົ່ວໄປ\n",
    "\n",
    "ເມື່ອຜູ້ໃຊ້ຖາມ, ໃຫ້ເຈົ້າປະຕິບັດຕາມ ReAct pattern:\n",
    "1. Reason - ວິເຄາະຄຳຖາມແລະຄິດວ່າຕ້ອງເຮັດຫຍັງ\n",
    "2. Act - ໃຊ້ເຄື່ອງມືທີ່ເໝາະສົມ\n",
    "3. Observe - ສັງເກດຜົນລັບຈາກເຄື່ອງມື\n",
    "4. ທຳຊ້ຳຈົນກວ່າຈະໄດ້ຄຳຕອບທີ່ສົມບູນ\n",
    "\n",
    "ຄຳຕອບສຸດທ້າຍໃຫ້ເປັນພາສາລາວ ແລະ ໃຫ້ຄຳຕອບທີ່ເປັນປະໂຫຍດແລະຊັດເຈນ.\"\"\"\n",
    "\n",
    "    # ເພີ່ມ system message\n",
    "    full_messages = [{\"role\": \"system\", \"content\": system_prompt}] + messages\n",
    "    \n",
    "    # ໃຊ້ llm_with_tools ທີ່ມີ tools\n",
    "    response = llm_with_tools.invoke(full_messages)\n",
    "    return {\"messages\": [response]}\n",
    "\n",
    "def call_tools(state: AgentState):\n",
    "    \"\"\"ເອີ້ນໃຊ້ເຄື່ອງມືຕາມທີ່ LLM ຮ້ອງຂໍ\"\"\"\n",
    "    messages = state[\"messages\"]\n",
    "    last_message = messages[-1]\n",
    "    \n",
    "    # ກວດສອບວ່າມີ tool_calls ຫຼືບໍ່\n",
    "    if hasattr(last_message, 'tool_calls') and last_message.tool_calls:\n",
    "        tool_results = execute_tools(last_message.tool_calls, tools)\n",
    "        return {\"messages\": tool_results}\n",
    "    \n",
    "    return {\"messages\": []}\n",
    "\n",
    "# ===== Graph Construction =====\n",
    "def create_react_agent():\n",
    "    \"\"\"ສ້າງ ReAct Agent Graph ແບບງ່າຍ\"\"\"\n",
    "    workflow = StateGraph(AgentState)\n",
    "    \n",
    "    # ເພີ່ມ nodes\n",
    "    workflow.add_node(\"agent\", call_model)\n",
    "    workflow.add_node(\"tools\", call_tools)\n",
    "    \n",
    "    # ຕັ້ງ entry point\n",
    "    workflow.set_entry_point(\"agent\")\n",
    "    \n",
    "    # ເພີ່ມ conditional edges\n",
    "    workflow.add_conditional_edges(\n",
    "        \"agent\",\n",
    "        should_continue,\n",
    "        {\n",
    "            \"continue\": \"tools\",\n",
    "            \"end\": \"__end__\"  # ໃຊ້ string ແທນ END constant\n",
    "        }\n",
    "    )\n",
    "    \n",
    "    # ເພີ່ມ edge ຈາກ tools ກັບຄືນ agent\n",
    "    workflow.add_edge(\"tools\", \"agent\")\n",
    "    \n",
    "    return workflow.compile()\n",
    "\n",
    "# ===== Main Execution =====\n",
    "def run_agent(query: str):\n",
    "    \"\"\"ແລ່ນ Weather Agent ດ້ວຍຄຳຖາມທີ່ໃຫ້ມາ\"\"\"\n",
    "    agent = create_react_agent() \n",
    "    \n",
    "    # ສ້າງ initial state\n",
    "    initial_state = {\n",
    "        \"messages\": [HumanMessage(content=query)],\n",
    "        \"next_action\": \"\"\n",
    "    }\n",
    "    \n",
    "    print(f\"🤖 Processing query: {query}\\n\")\n",
    "    \n",
    "    # ແລ່ນ agent\n",
    "    result = agent.invoke(initial_state)\n",
    "    \n",
    "    # ສະແດງຜົນໄຟນອນ\n",
    "    final_response = result[\"messages\"][-1].content\n",
    "    \n",
    "    # ສະແດງໃນຮູບແບບ Markdown\n",
    "    display(Markdown(f\"## ຄຳຕອບຈາກ AI Agent\\n\\n{final_response}\"))\n",
    "    \n",
    "    return result"
   ]
  },
  {
   "cell_type": "code",
   "execution_count": 7,
   "metadata": {},
   "outputs": [
    {
     "name": "stdout",
     "output_type": "stream",
     "text": [
      "🚀 ເລີ່ມຕົ້ນ ReAct Agent...\n",
      "\n",
      "📊 ສະແດງ Agent Graph:\n"
     ]
    },
    {
     "data": {
      "image/png": "[encoded data removed]",
      "text/plain": [
       "<IPython.core.display.Image object>"
      ]
     },
     "metadata": {},
     "output_type": "display_data"
    },
    {
     "name": "stdout",
     "output_type": "stream",
     "text": [
      "\n",
      "============================================================\n",
      "📍 ທົດສອບການເອົາຂໍ້ມູນສະພາບອາກາດ\n",
      "============================================================\n",
      "🤖 Processing query: ສະພາບອາກາດໃນນະຄອນຫລວງວຽງຈັນແນວໃດ?\n",
      "\n"
     ]
    },
    {
     "data": {
      "text/markdown": [
       "## ຄຳຕອບຈາກ AI Agent\n",
       "\n",
       "ຂໍ້ມູນສະພາບອາກາດຂອງນະຄອນຫຼວງວຽງຈັນໃນປະຈຸບັນແມ່ນມີອຸນຫະພູມ 27.57 ອົງສາເຊ, ຄວາມຊື່ນພີ່ນ 91%, ສະພາບອາກາດມີເມກໜາໝອກ, ຄວາມໄວລົມ 0.72 ແມັດ/ວິນາທີ. ອຸນຫະພູມຮູ້ສຶກວ່າ 32.56 ອົງສາເຊ."
      ],
      "text/plain": [
       "<IPython.core.display.Markdown object>"
      ]
     },
     "metadata": {},
     "output_type": "display_data"
    },
    {
     "name": "stdout",
     "output_type": "stream",
     "text": [
      "\n",
      "============================================================\n",
      "🎮 ທົດສອບການຄົ້ນຫາຂໍ້ມູນເກມ\n",
      "============================================================\n",
      "🤖 Processing query: ເກມ PS5 ເດືອນ 9 ມີເກມຍັງອອກມາໃຫມ່\n",
      "\n"
     ]
    },
    {
     "data": {
      "text/markdown": [
       "## ຄຳຕອບຈາກ AI Agent\n",
       "\n",
       "ເກມ PS5 ທີ່ກຳລັງຈະມາໃນປີ 2025 ມີຫຼາຍເກມທີ່ໜ້າຕື່ນເຕັ້ນ, ບາງເກມທີ່ນຶ່ງສົນໃຈແມ່ນ:\n",
       "- Gears of War Reloaded - ວັນທີ 26 ສິງຫາ 2025\n",
       "- Metal Solid Delta: Snake Eater - ວັນທີ 28 ສິງຫາ 2025\n",
       "- Borderlands 4 - ວັນທີ 23 ກັນຍາ 2025\n",
       "- Silent Hill F - ວັນທີ 25 ກັນຍາ 2025\n",
       "- Ghost of Yōtei - ວັນທີ 2 ຕຸລາ 2025\n",
       "\n",
       "ຜູ້ໃຊ້ສາມາດຕິດຕາມຂໍ້ມູນເກມໃໝ່ໆ ໄດ້ຈາກແຫຼ່ງຂໍ້ມູນທີ່ເຊື່ອຖືໄດ້ ເຊັ່ນ TechRadar, Push Square ແລະ GamesRadar."
      ],
      "text/plain": [
       "<IPython.core.display.Markdown object>"
      ]
     },
     "metadata": {},
     "output_type": "display_data"
    }
   ],
   "source": [
    "if __name__ == \"__main__\":\n",
    "    # ຕົວຢ່າງການນຳໃຊ້ງານ\n",
    "    print(\"🚀 ເລີ່ມຕົ້ນ ReAct Agent...\")\n",
    "\n",
    "    # ສ້າງ agent ເພື່ອສະແດງ graph\n",
    "    agent = create_react_agent()\n",
    "    \n",
    "    # ສະແດງ graph ຄັ້ງດຽວ\n",
    "    print(\"\\n📊 ສະແດງ Agent Graph:\")\n",
    "    try:\n",
    "        display(Image(agent.get_graph().draw_mermaid_png()))\n",
    "    except Exception as e:\n",
    "        print(f\"ບໍ່ສາມາດສະແດງ graph ໄດ້: {e}\")\n",
    "    \n",
    "    # ຄຳຖາມທຳອິດ - ສະພາບອາກາດ\n",
    "    print(\"\\n\" + \"=\"*60)\n",
    "    print(\"📍 ທົດສອບການເອົາຂໍ້ມູນສະພາບອາກາດ\")\n",
    "    print(\"=\"*60)\n",
    "    result1 = run_agent(\"ສະພາບອາກາດໃນນະຄອນຫລວງວຽງຈັນແນວໃດ?\")\n",
    "    \n",
    "    # ຄຳຖາມທີສອງ - ເກມ PS5\n",
    "    print(\"\\n\" + \"=\"*60) \n",
    "    print(\"🎮 ທົດສອບການຄົ້ນຫາຂໍ້ມູນເກມ\")\n",
    "    print(\"=\"*60)\n",
    "    result2 = run_agent(\"ເກມ PS5 ເດືອນ 9 ມີເກມຍັງອອກມາໃຫມ່\")\n",
    "    "
   ]
  }
 ],
 "metadata": {
  "kernelspec": {
   "display_name": ".venv",
   "language": "python",
   "name": "python3"
  },
  "language_info": {
   "codemirror_mode": {
    "name": "ipython",
    "version": 3
   },
   "file_extension": ".py",
   "mimetype": "text/x-python",
   "name": "python",
   "nbconvert_exporter": "python",
   "pygments_lexer": "ipython3",
   "version": "3.13.3"
  }
 },
 "nbformat": 4,
 "nbformat_minor": 2
}
