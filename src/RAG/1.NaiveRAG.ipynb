{
 "cells": [
  {
   "cell_type": "code",
   "execution_count": 17,
   "id": "41a572dd",
   "metadata": {},
   "outputs": [],
   "source": [
    "import chromadb\n",
    "from sentence_transformers import SentenceTransformer\n",
    "from langchain_anthropic import ChatAnthropic\n",
    "import os\n",
    "from IPython.display import display, Markdown"
   ]
  },
  {
   "cell_type": "code",
   "execution_count": 18,
   "id": "26f45e9e",
   "metadata": {},
   "outputs": [],
   "source": [
    "class NaiveRAG:\n",
    "    def __init__(self, collection_name: str):\n",
    "        \"\"\"\n",
    "        ໂຫຼດ RAG ຈາກ Chroma DB ທີ່ມີຢູ່ແລ້ວ\n",
    "        \"\"\"\n",
    "        # ໂຫຼດ ChromaDB client ຈາກ folder ທີ່ຕົນເອງສ້າງ\n",
    "        self.client = chromadb.PersistentClient(path=\"../Vector/chroma_db\")\n",
    "        \n",
    "        # ໂຫຼດ embedding model\n",
    "        self.embedding_model = SentenceTransformer('D:/model/BAAI-bge-m3',device='cpu')\n",
    "        \n",
    "        # ໂຫຼດ collection ທີ່ມີຢູ່ແລ້ວ\n",
    "        try:\n",
    "            self.collection = self.client.get_collection(name=collection_name)\n",
    "            print(f\"✅ ໂຫຼດ collection ສໍາເລັດ: {collection_name}\")\n",
    "            print(f\"   ມີເອກະສານທັງໝົດ: {self.collection.count()} ເອກະສານ\")\n",
    "        except Exception as e:\n",
    "            print(f\"❌ ບໍ່ສາມາດໂຫຼດ collection: {collection_name}\")\n",
    "            print(f\"   ຂໍ້ຜິດພາດ: {e}\")\n",
    "            raise\n",
    "\n",
    "        # ຕິດຕັ້ງ Anthropic Claude\n",
    "        api_key = os.getenv(\"ANTHROPIC_API_KEY\")\n",
    "        if not api_key:\n",
    "            raise ValueError(\"ກະລຸນາໃຫ້ ANTHROPIC_API_KEY\")\n",
    "        \n",
    "        self.llm = ChatAnthropic(\n",
    "            api_key=api_key,\n",
    "            model=\"claude-opus-4-1-20250805\",  \n",
    "            temperature=0.0,\n",
    "            max_tokens=2000\n",
    "        )\n",
    "    \n",
    "    def search(self, query: str, n_results: int = 5):\n",
    "        \"\"\"\n",
    "        ຄົ້ນຫາເອກະສານທີ່ກ່ຽວຂ້ອງ\n",
    "        \"\"\"\n",
    "        query_embedding = self.embedding_model.encode([query]).tolist()\n",
    "        \n",
    "        results = self.collection.query(\n",
    "            query_embeddings=query_embedding,\n",
    "            n_results=n_results\n",
    "        )\n",
    "        \n",
    "        docs = []\n",
    "        for i in range(len(results['documents'][0])):\n",
    "            docs.append({\n",
    "                'text': results['documents'][0][i],\n",
    "                'score': 1 - results['distances'][0][i],  # ປ່ຽນ distance ເປັນ similarity\n",
    "                'id': results['ids'][0][i]\n",
    "            })\n",
    "        \n",
    "        return docs\n",
    "    \n",
    "    def ask(self, question: str, n_results: int = 5):\n",
    "        \"\"\"\n",
    "        ຖາມຄໍາຖາມ ແລະ ໄດ້ຄໍາຕອບ\n",
    "        \"\"\"\n",
    "        print(f\"🔍 ກໍາລັງຄົ້ນຫາ: {question}\")\n",
    "        \n",
    "        # 1. ຄົ້ນຫາເອກະສານທີ່ກ່ຽວຂ້ອງ\n",
    "        docs = self.search(question, n_results)\n",
    "        \n",
    "        if not docs:\n",
    "            return \"❌ ບໍ່ພົບເອກະສານທີ່ກ່ຽວຂ້ອງ\"\n",
    "        \n",
    "        print(f\"📄 ພົບເອກະສານ: {len(docs)} ເອກະສານ\")\n",
    "        \n",
    "        # 2. ສ້າງ context\n",
    "        context = \"\\n\\n\".join([doc['text'] for doc in docs])\n",
    "        \n",
    "        # 3. ສ້າງ prompt\n",
    "        prompt = f\"\"\"ທ່ານເປັນ AI Assistant ທີ່ຊ່ຽວຊານໃນການຕອບຄຳຖາມໂດຍອ້າງອີງຈາກເອກະສານທີ່ໃຫ້ມາ.\n",
    "\n",
    "        ຄຳແນະນຳ:\n",
    "        1. ຕອບຄຳຖາມໂດຍອ້າງອີງຈາກເອກະສານທີ່ໃຫ້ມາເທົ່ານັ້ນ\n",
    "        2. ຖ້າບໍ່ພົບຄຳຕອບໃນເອກະສານ, ໃຫ້ບອກວ່າບໍ່ພົບຂໍ້ມູນທີ່ກ່ຽວຂ້ອງ\n",
    "        3. ລະບຸແຫຼ່ງຂໍ້ມູນທີ່ໃຊ້ໃນການຕອບ\n",
    "        4. ຕອບເປັນພາສາລາວເທົ່ານັ້ນ, ໃຫ້ຄຳຕອບທີ່ຊັດເຈນ ແລະ ລະອຽດ\n",
    "        5. ຕອບໃຫ້ເປັນ Format markdown\n",
    "                \n",
    "        ຂໍ້ມູນອ້າງອີງ:\n",
    "        {context}\n",
    "\n",
    "        ຄໍາຖາມ: {question}\n",
    "        \"\"\"\n",
    "        \n",
    "        # 4. ສ້າງຄໍາຕອບດ້ວຍ Claude\n",
    "        try:\n",
    "            response = self.llm.invoke(prompt)\n",
    "            answer = response.content.strip()\n",
    "            \n",
    "            return {\n",
    "                'question': question,\n",
    "                'answer': answer,\n",
    "                'sources': docs\n",
    "            }\n",
    "            \n",
    "        except Exception as e:\n",
    "            return f\"❌ ເກີດຂໍ້ຜິດພາດ: {str(e)}\""
   ]
  },
  {
   "cell_type": "code",
   "execution_count": 19,
   "id": "6d305c89",
   "metadata": {},
   "outputs": [],
   "source": [
    "# ວິທີໃຊ້ງານງ່າຍໆ\n",
    "def main():\n",
    "    # ໃສ່ຊື່ collection ຂອງທ່ານ\n",
    "    COLLECTION_NAME = \"pdf_documents\"  # ປ່ຽນຊື່ນີ້ຕາມ collection vector ທີ່ຕົນເອງສ້າງ\n",
    "    \n",
    "    try:\n",
    "        # ສ້າງ RAG\n",
    "        rag = NaiveRAG(\n",
    "            collection_name=COLLECTION_NAME, \n",
    "        )\n",
    "        \n",
    "        # ຖາມຄໍາຖາມ\n",
    "        while True:\n",
    "            question = input(\"\\n❓ ຖາມຄໍາຖາມ (ຫຼື 'quit' ເພື່ອອອກ): \")\n",
    "            \n",
    "            if question.lower() in ['quit', 'exit', 'ອອກ']:\n",
    "                print(\"👋 ລາກ່ອນ!\")\n",
    "                break\n",
    "            \n",
    "            if question.strip():\n",
    "                print(\"\\n🤖 ກໍາລັງປະມວນຜົນ...\")\n",
    "                # n_result ສາມາດປັບໄດ້ຕາມໃຈ ແຕ່ເນື່ອງຈາກວ່າ model ເຮົາມັນຈຳກັດ token ສະນັ້ນແມ່ນໃຫ້ຮະວັງ ເລື່ອງຂອງ context window ນຳເດີ ອາດຈະເຮັດໃຫ້ error ໄດ້. ແຕ່ຖ້າຢາກທົດລອງດ້ວຍຜົນລັບຈຳນວນຫລາຍແມ່ນແນະນຳໃຫ້ໃຊ້ model LLM ເສຍເງິນ\n",
    "                result = rag.ask(question=question,n_results=20)\n",
    "                \n",
    "                if isinstance(result, dict):\n",
    "                    display(Markdown(f\"\\n✅ ຄໍາຕອບ: {result['answer']}\"))  \n",
    "                else:\n",
    "                    print(f\"\\n{result}\")\n",
    "    \n",
    "    except Exception as e:\n",
    "        print(f\"❌ ເກີດຂໍ້ຜິດພາດ: {e}\")"
   ]
  },
  {
   "cell_type": "code",
   "execution_count": 20,
   "id": "3a495e09",
   "metadata": {},
   "outputs": [
    {
     "name": "stdout",
     "output_type": "stream",
     "text": [
      "✅ ໂຫຼດ collection ສໍາເລັດ: pdf_documents\n",
      "   ມີເອກະສານທັງໝົດ: 95 ເອກະສານ\n",
      "\n",
      "🤖 ກໍາລັງປະມວນຜົນ...\n",
      "🔍 ກໍາລັງຄົ້ນຫາ: ອັດຕາດອກ  ເບ້ຍ ຕໍ່ປິ fixed loan ເທົ່າໃດ\n",
      "📄 ພົບເອກະສານ: 20 ເອກະສານ\n"
     ]
    },
    {
     "data": {
      "text/markdown": [
       "\n",
       "✅ ຄໍາຕອບ: ອີງຕາມເອກະສານທີ່ໃຫ້ມາ, ອັດຕາດອກເບ້ຍຕໍ່ປີຂອງເງິນກູ້ຄົງທີ່ (Fixed Loan) ມີດັ່ງນີ້:\n",
       "\n",
       "## ອັດຕາດອກເບ້ຍເງິນກູ້ຄົງທີ່ (Fixed Loan)\n",
       "\n",
       "- **ສະກຸນເງິນກີບ:** 9% - 10.25% ຕໍ່ປີ\n",
       "- **ສະກຸນເງິນໂດລາ/ບາດ:** 7.50% - 9.25% ຕໍ່ປີ\n",
       "\n",
       "### ຄ່າທຳນຽມເພີ່ມເຕີມ:\n",
       "- ຄ່າທຳນຽມປະເມີນຫຼັກຊັບ: 0.2% ຂອງວົງເງິນອະນຸມັດ (ສູງສຸດບໍ່ເກີນ 5 ລ້ານກີບ)\n",
       "- ຄ່າທຳນຽມອະນຸມັດ: 0.5 - 1% ຂອງວົງເງິນອະນຸມັດ\n",
       "\n",
       "**ໝາຍເຫດ:** ອັດຕາດອກເບ້ຍ ແລະ ຄ່າທຳນຽມ ອາດຈະປ່ຽນແປງຕາມການປະກາດໃຊ້ໃນແຕ່ລະໄລຍະ\n",
       "\n",
       "*ແຫຼ່ງຂໍ້ມູນ: ປື້ມສັງລວມຜະລິດຕະພັນທັງໝົດຂອງ ທຄຕລ_2020_Update.2 ໜ້າທີ 52*"
      ],
      "text/plain": [
       "<IPython.core.display.Markdown object>"
      ]
     },
     "metadata": {},
     "output_type": "display_data"
    },
    {
     "name": "stdout",
     "output_type": "stream",
     "text": [
      "\n",
      "🤖 ກໍາລັງປະມວນຜົນ...\n",
      "🔍 ກໍາລັງຄົ້ນຫາ: ບໍລິການຮັບເງິນສົດກັບທີັ່ ຄ່າທໍານຽມເທົ່າໃດ\n",
      "📄 ພົບເອກະສານ: 20 ເອກະສານ\n"
     ]
    },
    {
     "data": {
      "text/markdown": [
       "\n",
       "✅ ຄໍາຕອບ: ອີງຕາມເອກະສານທີ່ໃຫ້ມາ, **ຄ່າທໍານຽມບໍລິການຮັບເງິນສົດກັບທີ່** ມີດັ່ງນີ້:\n",
       "\n",
       "## ຄ່າທໍານຽມຕາມໄລຍະທາງ:\n",
       "\n",
       "- **ໄລຍະທາງ 10 KM ລົງມາ:** ເກັບ 200,000 ກີບ/ຄັ້ງ\n",
       "- **ໄລຍະທາງ 10.1 KM - 15 KM:** ເກັບ 300,000 ກີບ/ຄັ້ງ  \n",
       "- **ໄລຍະທາງ 15.1 KM - 20 KM:** ເກັບ 400,000 ກີບ/ຄັ້ງ\n",
       "\n",
       "## ໝາຍເຫດ:\n",
       "ຄ່າທໍານຽມແມ່ນອີງຕາມແຈ້ງການຄ່າທໍານຽມທີ່ ທຄຕລ ປະກາດນໍາໃຊ້ແຕ່ລະໄລຍະ\n",
       "\n",
       "---\n",
       "**ແຫຼ່ງຂໍ້ມູນ:** ປື້ມສັງລວມຜະລິດຕະພັນທັງໝົດຂອງ ທຄຕລ_2020_Update.2 ໜ້າທີ 41"
      ],
      "text/plain": [
       "<IPython.core.display.Markdown object>"
      ]
     },
     "metadata": {},
     "output_type": "display_data"
    },
    {
     "name": "stdout",
     "output_type": "stream",
     "text": [
      "👋 ລາກ່ອນ!\n"
     ]
    }
   ],
   "source": [
    "if __name__ == \"__main__\":\n",
    "    main()\n",
    "    "
   ]
  }
 ],
 "metadata": {
  "kernelspec": {
   "display_name": ".venv",
   "language": "python",
   "name": "python3"
  },
  "language_info": {
   "codemirror_mode": {
    "name": "ipython",
    "version": 3
   },
   "file_extension": ".py",
   "mimetype": "text/x-python",
   "name": "python",
   "nbconvert_exporter": "python",
   "pygments_lexer": "ipython3",
   "version": "3.13.3"
  }
 },
 "nbformat": 4,
 "nbformat_minor": 5
}
